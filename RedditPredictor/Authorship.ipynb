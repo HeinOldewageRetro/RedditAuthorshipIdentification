{
 "cells": [
  {
   "cell_type": "code",
   "execution_count": 1,
   "metadata": {
    "collapsed": false,
    "deletable": true,
    "editable": true
   },
   "outputs": [
    {
     "name": "stdout",
     "output_type": "stream",
     "text": [
      "Requirement already up-to-date: keras in /home/hein/miniconda2/lib/python2.7/site-packages\n",
      "Requirement already up-to-date: six in /home/hein/miniconda2/lib/python2.7/site-packages (from keras)\n",
      "Requirement already up-to-date: pyyaml in /home/hein/miniconda2/lib/python2.7/site-packages (from keras)\n",
      "Requirement already up-to-date: theano in /home/hein/miniconda2/lib/python2.7/site-packages (from keras)\n",
      "Requirement already up-to-date: numpy>=1.9.1 in /home/hein/miniconda2/lib/python2.7/site-packages (from theano->keras)\n",
      "Requirement already up-to-date: scipy>=0.14 in /home/hein/miniconda2/lib/python2.7/site-packages (from theano->keras)\n",
      "Name: Keras\n",
      "Version: 2.0.4\n",
      "Summary: Deep Learning for Python\n",
      "Home-page: https://github.com/fchollet/keras\n",
      "Author: Francois Chollet\n",
      "Author-email: francois.chollet@gmail.com\n",
      "License: MIT\n",
      "Location: /home/hein/miniconda2/lib/python2.7/site-packages\n",
      "Requires: six, pyyaml, theano\n"
     ]
    }
   ],
   "source": [
    "!pip install keras --upgrade\n",
    "!pip show keras"
   ]
  },
  {
   "cell_type": "code",
   "execution_count": 13,
   "metadata": {
    "collapsed": false
   },
   "outputs": [
    {
     "name": "stdout",
     "output_type": "stream",
     "text": [
      "2.0.4\n"
     ]
    }
   ],
   "source": [
    "import keras\n",
    "import numpy as np\n",
    "\n",
    "print keras.__version__\n",
    "\n",
    "from keras.models import Sequential,Model\n",
    "from keras.layers import LSTM,Dense,Activation ,Input\n",
    "from keras.layers.wrappers import Bidirectional\n",
    "\n",
    "\n",
    "#Simple feed forward neural network\n",
    "hidden =Dense(3, activation='relu')(inputs)\n",
    "output =Dense(2, activation='relu')(hidden)\n",
    "\n",
    "#Deep neural network\n",
    "hidden1 =Dense(4, activation='relu')(inputs)\n",
    "hidden2 =Dense(4, activation='relu')(hidden1)\n",
    "output =Dense(2, activation='relu')(hidden2)\n",
    "\n",
    "#Recurrent neural network (LSTM)\n",
    "inputs = Input(shape=(None, 256))\n",
    "output = LSTM(100)(inputs)\n",
    "\n",
    "\n"
   ]
  },
  {
   "cell_type": "code",
   "execution_count": 1,
   "metadata": {
    "collapsed": false,
    "deletable": true,
    "editable": true,
    "scrolled": true
   },
   "outputs": [
    {
     "name": "stdout",
     "output_type": "stream",
     "text": [
      "Reading file\n",
      "Filtering users\n",
      "Done\n",
      "[ 0.  0.  0.  0.  0.  0.  0.  0.  0.  0.  0.  0.  0.  0.  0.  0.  0.  0.\n",
      "  0.  0.  0.  0.  0.  0.  0.  0.  0.  0.  0.  0.  0.  0.  1.  0.  0.  0.\n",
      "  0.  0.  0.  0.  0.  0.  0.  0.  0.  0.  0.  0.  0.  0.  0.  0.  0.  0.\n",
      "  0.  0.  0.  0.  0.  0.  0.  0.  0.  0.  0.  0.  0.  0.  0.  0.  0.  0.\n",
      "  0.  0.  0.  0.  0.  0.  0.  0.  0.  0.  0.  0.  0.  0.  0.  0.  0.  0.\n",
      "  0.  0.  0.  0.  0.  0.  0.  0.  0.  0.  0.  0.  0.  0.  0.  0.  0.  0.\n",
      "  0.  0.  0.  0.  0.  0.  0.  0.  0.  0.  0.  0.  0.  0.  0.  0.  0.  0.\n",
      "  0.  0.  0.  0.  0.  0.  0.  0.  0.  0.  0.  0.  0.  0.  0.  0.  0.  0.\n",
      "  0.  0.  0.  0.  0.  0.  0.  0.  0.  0.  0.  0.  0.  0.  0.  0.  0.  0.\n",
      "  0.  0.  0.  0.  0.  0.  0.  0.  0.  0.  0.  0.  0.  0.  0.  0.  0.  0.\n",
      "  0.  0.  0.  0.  0.  0.  0.  0.  0.  0.  0.  0.  0.  0.  0.  0.  0.  0.\n",
      "  0.  0.  0.  0.  0.  0.  0.  0.  0.  0.  0.  0.  0.  0.  0.  0.  0.  0.\n",
      "  0.  0.  0.  0.  0.  0.  0.  0.  0.  0.  0.  0.  0.  0.  0.  0.  0.  0.\n",
      "  0.  0.  0.  0.  0.  0.  0.  0.  0.  0.  0.  0.  0.  0.  0.  0.  0.  0.\n",
      "  0.  0.  0.  0.]\n"
     ]
    }
   ],
   "source": [
    "import csv\n",
    "import sys\n",
    "import random\n",
    "import numpy as np\n",
    "\n",
    "authors = {}\n",
    "print \"Reading file\"\n",
    "with open('Trainingdata.csv', 'rb') as csvfile:\n",
    "    reader = csv.reader(csvfile)\n",
    "    for row in reader:\n",
    "        if not row[0] in authors:\n",
    "            authors[row[0]] = []\n",
    "        authors[row[0]].append(row[1])\n",
    "\n",
    "def oneHot(i):\n",
    "    r = np.zeros(256)\n",
    "    r[i] = 1\n",
    "    return r\n",
    "\n",
    "indexToName = []\n",
    "for k in authors:\n",
    "    indexToName.append(k)\n",
    " \n",
    "NumCharsNeeded = 500\n",
    "print \"Filtering users\"\n",
    "indexToName = filter(lambda x : sum(map(lambda comment: len(comment),authors[x])) > NumCharsNeeded ,indexToName)\n",
    " \n",
    "\n",
    "training = indexToName[:2000]\n",
    "validation = indexToName[2000:]\n",
    "\n",
    "\n",
    "authorsVec = {}\n",
    "\n",
    "   \n",
    "\n",
    "def convertComment(comment):\n",
    "    commentVec = np.empty([len(comment),256])\n",
    "    for i,char in enumerate(comment):\n",
    "        commentVec[i] = oneHot(ord(char))\n",
    "\n",
    "    return commentVec\n",
    "\n",
    "def getUserComments(dataset,k):\n",
    "    comments = np.empty([0,256])\n",
    "    random.shuffle(authors[dataset[k]])\n",
    "    i = 0\n",
    "    while len(comments) < NumCharsNeeded:\n",
    "        comments = np.append(comments,convertComment(authors[dataset[k]][i]),axis=0)\n",
    "        i += 1\n",
    "    return comments[:NumCharsNeeded]\n",
    "\n",
    "def getPositive(dataset):\n",
    "    user = random.randint(0,len(dataset)-1)\n",
    "    a = getUserComments(dataset,user)\n",
    "    b = getUserComments(dataset,user)\n",
    "    return (a,b)\n",
    "\n",
    "def getNegative(dataset):\n",
    "    user = random.randint(0,len(dataset)-1)\n",
    "    other = user\n",
    "    while other == user:\n",
    "        other = random.randint(0,len(dataset)-1)\n",
    "    \n",
    "    a = getUserComments(dataset,user)\n",
    "    b = getUserComments(dataset,other)\n",
    "    return (a,b)\n",
    "\n",
    "\n",
    "def getData(dataset,batchSize):\n",
    "    counter = 0\n",
    "    while True:\n",
    "        \n",
    "        try:\n",
    "            data_a = np.empty([batchSize,500,256])\n",
    "            data_b = np.empty([batchSize,500,256])\n",
    "            labels = np.empty([batchSize,1])\n",
    "            for i in range(0,batchSize):\n",
    "                counter += 1\n",
    "                if counter % 2 == 0:\n",
    "                    p = getPositive(dataset)\n",
    "                    data_a[i] = p[0]\n",
    "                    data_b[i] = p[1]\n",
    "                    labels[i] = np.repeat(1,1)\n",
    "                else:\n",
    "                    p = getNegative(dataset)\n",
    "                    data_a[i] = p[0]\n",
    "                    data_b[i] = p[1]\n",
    "                    labels[i] = np.repeat(0,1),\n",
    "                \n",
    "            yield ([data_a,data_b],labels)\n",
    "        except Exception as exp:\n",
    "            print  exp\n",
    "            \n",
    "print \"Done\"\n",
    "print getPositive(training)[0][499]"
   ]
  },
  {
   "cell_type": "code",
   "execution_count": null,
   "metadata": {
    "collapsed": false,
    "deletable": true,
    "editable": true,
    "scrolled": true
   },
   "outputs": [
    {
     "name": "stderr",
     "output_type": "stream",
     "text": [
      "Using TensorFlow backend.\n"
     ]
    },
    {
     "name": "stdout",
     "output_type": "stream",
     "text": [
      "2.0.4\n",
      "Tensor(\"concatenate_1/concat:0\", shape=(?, 200), dtype=float32)\n",
      "Fitting\n",
      "Epoch 1/100\n"
     ]
    }
   ],
   "source": [
    "import keras\n",
    "\n",
    "print keras.__version__\n",
    "import keras.backend as K\n",
    "\n",
    "from keras.models import Sequential,Model\n",
    "from keras.layers import LSTM,Dense,Activation ,Input\n",
    "from keras.layers.wrappers import Bidirectional\n",
    "\n",
    "\n",
    "a = Input(shape=(500, 256))\n",
    "b = Input(shape=(500, 256))\n",
    "\n",
    "sharedLSTM = LSTM(100)\n",
    "sharedSimple = Dense(100, activation='relu')\n",
    "\n",
    "encoded_a = sharedLSTM(a)\n",
    "encoded_b = sharedLSTM(b)\n",
    "\n",
    "processed_a = sharedSimple(encoded_a )\n",
    "processed_b = sharedSimple(encoded_b )\n",
    "\n",
    "merged_vector =  keras.layers.concatenate([processed_a, processed_b], axis=-1)\n",
    "print merged_vector\n",
    "layer = Dense(100, activation='relu')(merged_vector)\n",
    "layer2 = Dense(100, activation='relu')(layer)\n",
    "predictions =  Dense(1, activation='sigmoid')(layer2)\n",
    "# We define a trainable model\n",
    "model = Model(inputs=[a, b], outputs=predictions)\n",
    "model.compile(optimizer='rmsprop',\n",
    "              loss='binary_crossentropy',\n",
    "              metrics=['accuracy'])\n",
    "print \"Fitting\"\n",
    "model.fit_generator(getData(training,200),1000, epochs=100,verbose=2, validation_data= getData(validation,100),validation_steps=5)\n",
    "print \"Done, saving\"\n",
    "model.save(\"model_post_dense.h5\")\n",
    "print \"Done done\""
   ]
  },
  {
   "cell_type": "code",
   "execution_count": 7,
   "metadata": {
    "collapsed": false,
    "deletable": true,
    "editable": true
   },
   "outputs": [
    {
     "name": "stdout",
     "output_type": "stream",
     "text": [
      "['loss', 'acc']\n",
      "[0.43111410075426104, 0.79382999789714814]\n"
     ]
    }
   ],
   "source": [
    "from keras.models import load_model\n",
    "\n",
    "model = load_model('model2.h5')\n",
    "res = model.evaluate_generator(getData(validation,100),1000,workers=1)\n",
    "print model.metrics_names\n",
    "print res"
   ]
  },
  {
   "cell_type": "code",
   "execution_count": null,
   "metadata": {
    "collapsed": true,
    "deletable": true,
    "editable": true
   },
   "outputs": [],
   "source": []
  }
 ],
 "metadata": {
  "kernelspec": {
   "display_name": "Python 2",
   "language": "python",
   "name": "python2"
  },
  "language_info": {
   "codemirror_mode": {
    "name": "ipython",
    "version": 2
   },
   "file_extension": ".py",
   "mimetype": "text/x-python",
   "name": "python",
   "nbconvert_exporter": "python",
   "pygments_lexer": "ipython2",
   "version": "2.7.12+"
  }
 },
 "nbformat": 4,
 "nbformat_minor": 2
}
